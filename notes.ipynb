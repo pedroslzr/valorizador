{
 "cells": [
  {
   "cell_type": "code",
   "execution_count": 11,
   "metadata": {},
   "outputs": [
    {
     "name": "stdout",
     "output_type": "stream",
     "text": [
      "7595.98\n",
      "985.0\n",
      "0.98\n",
      "7595.99\n"
     ]
    }
   ],
   "source": [
    "import numpy as np\n",
    "import math\n",
    "#a = 1088.2500*6.9800\n",
    "a = 7595.985\n",
    "#a = [4654654.4564 , 4564.45 , 4548.451]\n",
    "\n",
    "def redondear(x):\n",
    "    y = round(x % 1,3)*1000\n",
    "    print(y)\n",
    "    print(round(y/1000,2))\n",
    "    if (y%10 == 0):\n",
    "        x = round(x,2)\n",
    "    elif (y%5 != 0):\n",
    "        x = round(x,2)  \n",
    "    else:\n",
    "        x = round(math.trunc(x) + round(y/1000,2) + float(0.01),2)\n",
    "    z = y%5\n",
    "    print(x)\n",
    "     \n",
    "\n",
    "print((round(a,2)))\n",
    "redondear(a)"
   ]
  },
  {
   "cell_type": "code",
   "execution_count": 37,
   "metadata": {},
   "outputs": [
    {
     "data": {
      "text/html": [
       "<div>\n",
       "<style scoped>\n",
       "    .dataframe tbody tr th:only-of-type {\n",
       "        vertical-align: middle;\n",
       "    }\n",
       "\n",
       "    .dataframe tbody tr th {\n",
       "        vertical-align: top;\n",
       "    }\n",
       "\n",
       "    .dataframe thead th {\n",
       "        text-align: right;\n",
       "    }\n",
       "</style>\n",
       "<table border=\"1\" class=\"dataframe\">\n",
       "  <thead>\n",
       "    <tr style=\"text-align: right;\">\n",
       "      <th></th>\n",
       "      <th>a</th>\n",
       "      <th>b</th>\n",
       "      <th>c</th>\n",
       "    </tr>\n",
       "  </thead>\n",
       "  <tbody>\n",
       "    <tr>\n",
       "      <th>0</th>\n",
       "      <td>1</td>\n",
       "      <td>15</td>\n",
       "      <td>5</td>\n",
       "    </tr>\n",
       "    <tr>\n",
       "      <th>1</th>\n",
       "      <td>1</td>\n",
       "      <td>10</td>\n",
       "      <td>7</td>\n",
       "    </tr>\n",
       "    <tr>\n",
       "      <th>2</th>\n",
       "      <td>1</td>\n",
       "      <td>30</td>\n",
       "      <td>9</td>\n",
       "    </tr>\n",
       "  </tbody>\n",
       "</table>\n",
       "</div>"
      ],
      "text/plain": [
       "   a   b  c\n",
       "0  1  15  5\n",
       "1  1  10  7\n",
       "2  1  30  9"
      ]
     },
     "execution_count": 37,
     "metadata": {},
     "output_type": "execute_result"
    }
   ],
   "source": [
    "df = pd.DataFrame([{'a': 15, 'b': 15, 'c': 5}, {'a': 20, 'b': 10, 'c': 7}, {'a': 25, 'b': 30, 'c': 9}])\n",
    "#df['a'] = df['a'].map(lambda a: a / 2.)\n",
    "\n",
    "def complex_function(x, y=0):\n",
    "    if x > 5 and x > y:\n",
    "        return 1\n",
    "    else:\n",
    "        return 2\n",
    "\n",
    "#df['a'] = df['a'].apply(complex_function)\n",
    "\n",
    "def apply_complex_function(x):\n",
    "    return complex_function(x['a'])\n",
    "df['a'] = df.apply(apply_complex_function, axis=1)\n",
    "\n",
    "df"
   ]
  },
  {
   "cell_type": "code",
   "execution_count": 30,
   "metadata": {},
   "outputs": [
    {
     "data": {
      "text/plain": [
       "7595.99"
      ]
     },
     "execution_count": 30,
     "metadata": {},
     "output_type": "execute_result"
    }
   ],
   "source": [
    "#REDONDEADOR\n",
    "\n",
    "def round_half_up(n, decimals=0):\n",
    "    multiplier = 10 ** decimals\n",
    "    return math.floor(n*multiplier + 0.5) / multiplier\n",
    "a = 7595.985\n",
    "round_half_up(a, 2)"
   ]
  },
  {
   "cell_type": "code",
   "execution_count": 42,
   "metadata": {},
   "outputs": [
    {
     "data": {
      "text/plain": [
       "7595.99"
      ]
     },
     "execution_count": 42,
     "metadata": {},
     "output_type": "execute_result"
    }
   ],
   "source": [
    "#REDONDEADOR 2 DECIMALES\n",
    "\n",
    "def round_half_up(n):\n",
    "    multiplier = 10 ** 2\n",
    "    return math.floor(n*multiplier + 0.5) / multiplier\n",
    "a = 7595.985\n",
    "round_half_up(a)"
   ]
  },
  {
   "cell_type": "code",
   "execution_count": 75,
   "metadata": {},
   "outputs": [
    {
     "data": {
      "text/html": [
       "<div>\n",
       "<style scoped>\n",
       "    .dataframe tbody tr th:only-of-type {\n",
       "        vertical-align: middle;\n",
       "    }\n",
       "\n",
       "    .dataframe tbody tr th {\n",
       "        vertical-align: top;\n",
       "    }\n",
       "\n",
       "    .dataframe thead th {\n",
       "        text-align: right;\n",
       "    }\n",
       "</style>\n",
       "<table border=\"1\" class=\"dataframe\">\n",
       "  <thead>\n",
       "    <tr style=\"text-align: right;\">\n",
       "      <th></th>\n",
       "      <th>ppto</th>\n",
       "      <th>b</th>\n",
       "      <th>c</th>\n",
       "    </tr>\n",
       "  </thead>\n",
       "  <tbody>\n",
       "    <tr>\n",
       "      <th>0</th>\n",
       "      <td>4564.46</td>\n",
       "      <td>15</td>\n",
       "      <td>5</td>\n",
       "    </tr>\n",
       "    <tr>\n",
       "      <th>1</th>\n",
       "      <td>5.00</td>\n",
       "      <td>10</td>\n",
       "      <td>7</td>\n",
       "    </tr>\n",
       "    <tr>\n",
       "      <th>2</th>\n",
       "      <td>25.00</td>\n",
       "      <td>30</td>\n",
       "      <td>9</td>\n",
       "    </tr>\n",
       "  </tbody>\n",
       "</table>\n",
       "</div>"
      ],
      "text/plain": [
       "      ppto   b  c\n",
       "0  4564.46  15  5\n",
       "1     5.00  10  7\n",
       "2    25.00  30  9"
      ]
     },
     "execution_count": 75,
     "metadata": {},
     "output_type": "execute_result"
    }
   ],
   "source": [
    "df = pd.DataFrame([{'ppto': 4564.456, 'b': 15, 'c': 5}, {'ppto': 5, 'b': 10, 'c': 7}, {'ppto': 25, 'b': 30, 'c': 9}])\n",
    "#df['a'] = df['a'].map(lambda a: a / 2.)\n",
    "\n",
    "def round_2dec(n):\n",
    "    multiplier = 10 ** 2\n",
    "    return math.floor(n*multiplier + 0.5) / multiplier\n",
    "\n",
    "def apply_roundppto(x):\n",
    "    return round_2dec(x['ppto'])\n",
    "df['ppto'] = df.apply(apply_roundppto, axis=1)\n",
    "\n",
    "df"
   ]
  },
  {
   "cell_type": "code",
   "execution_count": 87,
   "metadata": {},
   "outputs": [
    {
     "name": "stdout",
     "output_type": "stream",
     "text": [
      "              ITEM.                             DESCRIPCION DE PARTIDA UND.  \\\n",
      "0                01  OBRAS PROVISIONALES, TRABAJOS PRELIMINARES, SE...  NaN   \n",
      "1             01.01        OBRAS PROVISIONALES Y TRABAJOS PRELIMINARES  NaN   \n",
      "2          01.01.01                                OBRAS PROVISIONALES  NaN   \n",
      "3       01.01.01.01                       CONSTRUCCIONES PROVISIONALES  NaN   \n",
      "4    01.01.01.01.01   CARTEL DE IDENTIFICACIÓN DE OBRA (8.50m X 3.60m)  und   \n",
      "..              ...                                                ...  ...   \n",
      "218     06.01.03.07                               CURADO DE   CONCRETO   m2   \n",
      "219     06.01.03.08  TAPA DE CONCRETO PARA INSPECCION Y LIMPIEZA SE...  und   \n",
      "220     06.01.03.09                        COMPUERTA METALICA DE IZAJE  und   \n",
      "221              07  PLAN DE MANEJO DE MITIGACION DE IMPACTO AMBIENTAL  NaN   \n",
      "222           07.01                    MITIGACION DE IMPACTO AMBIENTAL  glb   \n",
      "\n",
      "     METRADO CONTRACTUAL  P.U. OFERTA S/.  ACUMULADO ANTERIOR  AVANCE ACTUAL  \\\n",
      "0                   0.00             0.00                0.00           0.00   \n",
      "1                   0.00             0.00                0.00           0.00   \n",
      "2                   0.00             0.00                0.00           0.00   \n",
      "3                   0.00             0.00                0.00           0.00   \n",
      "4                   1.00          2154.83                1.00           0.00   \n",
      "..                   ...              ...                 ...            ...   \n",
      "218             11719.46             1.65             2247.92        2762.75   \n",
      "219               330.00            90.00                0.00           0.00   \n",
      "220                13.00          2700.00                0.00           0.00   \n",
      "221                 0.00             0.00                0.00           0.00   \n",
      "222                 1.00         27140.24                0.00           0.00   \n",
      "\n",
      "         ppto  \n",
      "0        0.00  \n",
      "1        0.00  \n",
      "2        0.00  \n",
      "3        0.00  \n",
      "4     2154.83  \n",
      "..        ...  \n",
      "218  19337.11  \n",
      "219  29700.00  \n",
      "220  35100.00  \n",
      "221      0.00  \n",
      "222  27140.24  \n",
      "\n",
      "[223 rows x 8 columns]\n",
      "8058151.0\n"
     ]
    }
   ],
   "source": [
    "# Importamos Pandas como pd\n",
    "import pandas as pd\n",
    "import numpy as np\n",
    "import math\n",
    "\n",
    "# Herramienta de redondeo a 2 decimales\n",
    "def round_2dec(n):\n",
    "    multiplier = 10 ** 2\n",
    "    return math.floor(n*multiplier + 0.5) / multiplier\n",
    "\n",
    "# Importo datos, salto las primeras columnas de membrete\n",
    "df = pd.read_csv(\"./data/data.csv\", skiprows=14, sep=\";\", encoding='utf-8-sig')\n",
    "\n",
    "\n",
    "# Creo columna de PRESUPUESTO OFERTA\n",
    "#df[\"ppto\"] = np.round(df[\"METRADO CONTRACTUAL\"] * df[\"P.U. OFERTA S/.\"],2)\n",
    "df[\"ppto\"] = df[\"METRADO CONTRACTUAL\"] * df[\"P.U. OFERTA S/.\"]\n",
    "#df[\"ppto\"] = np.round(df[\"ppto\"],2)\n",
    "\n",
    "def apply_roundppto(x):\n",
    "    return round_2dec(x[\"ppto\"])\n",
    "df[\"ppto\"] = df.apply(apply_roundppto,axis = 1)\n",
    "\n",
    "#df[\"ppto\"] = round_half_up(df[\"ppto\"],2)\n",
    "#df[\"ppto\"] = [round_half_up(n, 2) for n in df[\"ppto\"]]\n",
    "#df[\"ppto\"] = redondear(df[\"ppto\"])\n",
    "precio = df[\"ppto\"].sum()\n",
    "\n",
    "# Diccionario\n",
    "#header_dict = {\"ppto\" : \"PRESUPUESTO_CONTRACTUAL\"}\n",
    "\n",
    "print(df)\n",
    "print(precio)"
   ]
  },
  {
   "cell_type": "code",
   "execution_count": 2,
   "metadata": {},
   "outputs": [
    {
     "data": {
      "text/html": [
       "<div>\n",
       "<style scoped>\n",
       "    .dataframe tbody tr th:only-of-type {\n",
       "        vertical-align: middle;\n",
       "    }\n",
       "\n",
       "    .dataframe tbody tr th {\n",
       "        vertical-align: top;\n",
       "    }\n",
       "\n",
       "    .dataframe thead th {\n",
       "        text-align: right;\n",
       "    }\n",
       "</style>\n",
       "<table border=\"1\" class=\"dataframe\">\n",
       "  <thead>\n",
       "    <tr style=\"text-align: right;\">\n",
       "      <th></th>\n",
       "      <th>0</th>\n",
       "      <th>1</th>\n",
       "    </tr>\n",
       "  </thead>\n",
       "  <tbody>\n",
       "    <tr>\n",
       "      <th>0</th>\n",
       "      <td>PROYECTO</td>\n",
       "      <td>“RECONSTRUCCIÓN DE PISTAS Y VEREDAS EN LA AV. ...</td>\n",
       "    </tr>\n",
       "    <tr>\n",
       "      <th>1</th>\n",
       "      <td>TRAMO</td>\n",
       "      <td>KM 0+000 - KM 90+115 - KM 0+000 - KM 18+260</td>\n",
       "    </tr>\n",
       "    <tr>\n",
       "      <th>2</th>\n",
       "      <td>ENTIDAD (CLIENTE)</td>\n",
       "      <td>GOBIERNO REGIONAL DE LIMA METROPOLITANA</td>\n",
       "    </tr>\n",
       "    <tr>\n",
       "      <th>3</th>\n",
       "      <td>CONTRATISTA</td>\n",
       "      <td>CONTRATISTA S.A.C.</td>\n",
       "    </tr>\n",
       "    <tr>\n",
       "      <th>4</th>\n",
       "      <td>SUPERVISION</td>\n",
       "      <td>CONSORCIO SUPERVISOR</td>\n",
       "    </tr>\n",
       "    <tr>\n",
       "      <th>5</th>\n",
       "      <td>CONTRATO Nº</td>\n",
       "      <td>027-2021-MML-PGRLM-SRAF</td>\n",
       "    </tr>\n",
       "    <tr>\n",
       "      <th>6</th>\n",
       "      <td>FIRMA DE CONTRATO (FECHA)</td>\n",
       "      <td>24/09/2021</td>\n",
       "    </tr>\n",
       "    <tr>\n",
       "      <th>7</th>\n",
       "      <td>PLAZO DE EJECUCION</td>\n",
       "      <td>120 días Calendarios</td>\n",
       "    </tr>\n",
       "    <tr>\n",
       "      <th>8</th>\n",
       "      <td>INICIO DE OBRA</td>\n",
       "      <td>15 de octubre de 2021</td>\n",
       "    </tr>\n",
       "    <tr>\n",
       "      <th>9</th>\n",
       "      <td>TERMINO DE PLAZO CONTRACTUAL</td>\n",
       "      <td>11 de febrero de 2022</td>\n",
       "    </tr>\n",
       "    <tr>\n",
       "      <th>10</th>\n",
       "      <td>MONTO CONTRATO</td>\n",
       "      <td>11202117.9</td>\n",
       "    </tr>\n",
       "    <tr>\n",
       "      <th>11</th>\n",
       "      <td>Mes de valorizacion</td>\n",
       "      <td>DICIEMBRE</td>\n",
       "    </tr>\n",
       "    <tr>\n",
       "      <th>12</th>\n",
       "      <td>Año de valorizacion</td>\n",
       "      <td>2021</td>\n",
       "    </tr>\n",
       "    <tr>\n",
       "      <th>13</th>\n",
       "      <td>Numero de valorizacion</td>\n",
       "      <td>4</td>\n",
       "    </tr>\n",
       "  </tbody>\n",
       "</table>\n",
       "</div>"
      ],
      "text/plain": [
       "                               0  \\\n",
       "0                       PROYECTO   \n",
       "1                          TRAMO   \n",
       "2              ENTIDAD (CLIENTE)   \n",
       "3                    CONTRATISTA   \n",
       "4                    SUPERVISION   \n",
       "5                    CONTRATO Nº   \n",
       "6      FIRMA DE CONTRATO (FECHA)   \n",
       "7             PLAZO DE EJECUCION   \n",
       "8                 INICIO DE OBRA   \n",
       "9   TERMINO DE PLAZO CONTRACTUAL   \n",
       "10                MONTO CONTRATO   \n",
       "11           Mes de valorizacion   \n",
       "12           Año de valorizacion   \n",
       "13        Numero de valorizacion   \n",
       "\n",
       "                                                    1  \n",
       "0   “RECONSTRUCCIÓN DE PISTAS Y VEREDAS EN LA AV. ...  \n",
       "1         KM 0+000 - KM 90+115 - KM 0+000 - KM 18+260  \n",
       "2             GOBIERNO REGIONAL DE LIMA METROPOLITANA  \n",
       "3                                  CONTRATISTA S.A.C.  \n",
       "4                                CONSORCIO SUPERVISOR  \n",
       "5                             027-2021-MML-PGRLM-SRAF  \n",
       "6                                          24/09/2021  \n",
       "7                                120 días Calendarios  \n",
       "8                               15 de octubre de 2021  \n",
       "9                               11 de febrero de 2022  \n",
       "10                                         11202117.9  \n",
       "11                                          DICIEMBRE  \n",
       "12                                               2021  \n",
       "13                                                  4  "
      ]
     },
     "execution_count": 2,
     "metadata": {},
     "output_type": "execute_result"
    }
   ],
   "source": [
    "import pandas as pd\n",
    "df2 = pd.read_csv(\"./data/data.csv\", sep=\";\", encoding='utf-8-sig', index_col=False, header=None)\n",
    "df2 = df2.iloc[0:14,0:2]\n",
    "df2 = df2.fillna(0)\n",
    "\n",
    "df2\n"
   ]
  },
  {
   "cell_type": "code",
   "execution_count": 21,
   "metadata": {},
   "outputs": [
    {
     "data": {
      "text/plain": [
       "'“RECONSTRUCCIÓN DE PISTAS Y VEREDAS EN LA AV. LAS TORRES TRAMO DESDE LA AV. CIRCUNVALACIÓN HASTA LA ALTURA DE LA QUINTA AV., L = 1.99 KM DISTRITO DE LURIGANCHO CHOSICA, LIMA – LIMA”. Con código único de inversión (IRI): 2498581'"
      ]
     },
     "execution_count": 21,
     "metadata": {},
     "output_type": "execute_result"
    }
   ],
   "source": [
    "title = str(df2.iloc[0][1])\n",
    "title"
   ]
  }
 ],
 "metadata": {
  "kernelspec": {
   "display_name": "Python 3",
   "language": "python",
   "name": "python3"
  },
  "language_info": {
   "codemirror_mode": {
    "name": "ipython",
    "version": 3
   },
   "file_extension": ".py",
   "mimetype": "text/x-python",
   "name": "python",
   "nbconvert_exporter": "python",
   "pygments_lexer": "ipython3",
   "version": "3.10.7"
  },
  "orig_nbformat": 4,
  "vscode": {
   "interpreter": {
    "hash": "fbe58ca63fe33f9eeae9e71d10368d2b4a57f2b1b395836210cc60d362c66949"
   }
  }
 },
 "nbformat": 4,
 "nbformat_minor": 2
}
